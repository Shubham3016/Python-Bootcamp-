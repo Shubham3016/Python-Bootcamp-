{
 "cells": [
  {
   "cell_type": "markdown",
   "metadata": {},
   "source": [
    "# while Loops\n",
    "\n",
    "The <code>while</code> statement in Python is one of most general ways to perform iteration. A <code>while</code> statement will repeatedly execute a single statement or group of statements as long as the condition is true. The reason it is called a 'loop' is because the code statements are looped through over and over again until the condition is no longer met.\n",
    "\n",
    "The general format of a while loop is:\n",
    "\n",
    "    while test:\n",
    "        code statements\n",
    "    else:\n",
    "        final code statements\n"
   ]
  },
  {
   "cell_type": "code",
   "execution_count": 5,
   "metadata": {},
   "outputs": [
    {
     "name": "stdout",
     "output_type": "stream",
     "text": [
      "x is currently: 0\n",
      "x is still less than 10,adding 1 to x\n",
      "x is currently: 1\n",
      "x is still less than 10,adding 1 to x\n",
      "x is currently: 2\n",
      "x is still less than 10,adding 1 to x\n",
      "x is currently: 3\n",
      "x is still less than 10,adding 1 to x\n",
      "x is currently: 4\n",
      "x is still less than 10,adding 1 to x\n",
      "x is currently: 5\n",
      "x is still less than 10,adding 1 to x\n",
      "x is currently: 6\n",
      "x is still less than 10,adding 1 to x\n",
      "x is currently: 7\n",
      "x is still less than 10,adding 1 to x\n",
      "x is currently: 8\n",
      "x is still less than 10,adding 1 to x\n",
      "x is currently: 9\n",
      "x is still less than 10,adding 1 to x\n"
     ]
    }
   ],
   "source": [
    "x=0\n",
    "while x < 10:\n",
    "    print('x is currently:',x)\n",
    "    print('x is still less than 10,adding 1 to x')\n",
    "    x+=1"
   ]
  },
  {
   "cell_type": "markdown",
   "metadata": {},
   "source": [
    "Here we can see how many times the print statements occurred and how the <code>while</code> loop kept going until the True condition was met, which occurred once x==10. It's important to note that once this occurred the code stopped. Let's see how we could add an <code>else</code> statement:"
   ]
  },
  {
   "cell_type": "code",
   "execution_count": 5,
   "metadata": {},
   "outputs": [
    {
     "name": "stdout",
     "output_type": "stream",
     "text": [
      "2\n",
      "3\n",
      "4\n",
      "5\n",
      "6\n",
      "7\n",
      "8\n",
      "9\n",
      "10\n",
      "11\n"
     ]
    }
   ],
   "source": [
    "m=1\n",
    "while(m<=10):\n",
    "    m+=1 \n",
    "    print(m)\n"
   ]
  },
  {
   "cell_type": "code",
   "execution_count": 13,
   "metadata": {},
   "outputs": [
    {
     "name": "stdout",
     "output_type": "stream",
     "text": [
      "a is currently: 0\n",
      "a is less than 10,adding 1 to a\n",
      "a is currently: 1\n",
      "a is less than 10,adding 1 to a\n",
      "a is currently: 2\n",
      "a is less than 10,adding 1 to a\n",
      "a is currently: 3\n",
      "a is less than 10,adding 1 to a\n",
      "a is currently: 4\n",
      "a is less than 10,adding 1 to a\n",
      "a is currently: 5\n",
      "a is less than 10,adding 1 to a\n",
      "a is currently: 6\n",
      "a is less than 10,adding 1 to a\n",
      "a is currently: 7\n",
      "a is less than 10,adding 1 to a\n",
      "a is currently: 8\n",
      "a is less than 10,adding 1 to a\n",
      "a is currently: 9\n",
      "a is less than 10,adding 1 to a\n",
      "All Done!\n"
     ]
    }
   ],
   "source": [
    "a=0\n",
    "while a < 10:\n",
    "    print('a is currently:',a)\n",
    "    print('a is less than 10,adding 1 to a')\n",
    "    a+=1\n",
    "else:\n",
    "    print(\"All Done!\")"
   ]
  },
  {
   "cell_type": "markdown",
   "metadata": {},
   "source": [
    "# break\n",
    "\n",
    "With the **break statement** we can stop the loop even if the while condition is true::\n",
    "\n",
    "`break`: Breaks out of the current closest enclosing loop.\n",
    "    \n",
    "Thinking about <code>break</code> statements, the general format of the <code>while</code> loop looks like this:\n",
    "\n",
    "    while test: \n",
    "        code statement\n",
    "        if test: \n",
    "            break\n",
    "        if test: \n",
    "            continue \n",
    "    else:\n"
   ]
  },
  {
   "cell_type": "code",
   "execution_count": 15,
   "metadata": {},
   "outputs": [
    {
     "name": "stdout",
     "output_type": "stream",
     "text": [
      "1\n",
      "2\n",
      "3\n"
     ]
    }
   ],
   "source": [
    "i=1\n",
    "\n",
    "\n",
    "while(i<6):\n",
    "    print(i)\n",
    "    if(i==3):\n",
    "        break\n",
    "    i+=1"
   ]
  },
  {
   "cell_type": "markdown",
   "metadata": {},
   "source": [
    "Here we can see if `i==3` it will Exit the loop when `i` is `3`:"
   ]
  },
  {
   "cell_type": "code",
   "execution_count": 20,
   "metadata": {},
   "outputs": [
    {
     "name": "stdout",
     "output_type": "stream",
     "text": [
      "w\n",
      "e\n",
      "l\n",
      "End\n"
     ]
    }
   ],
   "source": [
    "for val in \"welcome\":\n",
    "    if val==\"c\":\n",
    "        break\n",
    "    print(val)\n",
    "print(\"End\")\n",
    "    "
   ]
  },
  {
   "cell_type": "markdown",
   "metadata": {},
   "source": [
    "Here we can see we assign a string `Welcome` so it will Exit the loop when `val==c`.:"
   ]
  },
  {
   "cell_type": "markdown",
   "metadata": {},
   "source": [
    "## The continue Statement\n",
    "\n",
    "With the continue statement we can stop the current iteration, and continue with the next:"
   ]
  },
  {
   "cell_type": "code",
   "execution_count": 16,
   "metadata": {},
   "outputs": [
    {
     "name": "stdout",
     "output_type": "stream",
     "text": [
      "1\n",
      "2\n",
      "3\n",
      "5\n",
      "6\n",
      "7\n",
      "8\n"
     ]
    }
   ],
   "source": [
    "i=0\n",
    "\n",
    "while i<8:\n",
    "    i+=1\n",
    "    if i==4:\n",
    "        continue\n",
    "    print(i)"
   ]
  },
  {
   "cell_type": "markdown",
   "metadata": {},
   "source": [
    "A word of caution however! It is possible to create an infinitely running loop with while statements. For example:\n"
   ]
  },
  {
   "cell_type": "code",
   "execution_count": null,
   "metadata": {},
   "outputs": [],
   "source": [
    "# DO NOT RUN THIS CODE!!!! \n",
    "while True:\n",
    "    print(\"I'm stuck in an infinite loop!\")"
   ]
  },
  {
   "cell_type": "code",
   "execution_count": 6,
   "metadata": {},
   "outputs": [
    {
     "name": "stdout",
     "output_type": "stream",
     "text": [
      "Enter the number but the limit to enter number is 9\n",
      "Hey! Please Guess the number:2\n",
      "Number is less please enter greater number \n",
      "\n",
      "8 No of guesses left\n",
      "Hey! Please Guess the number:4\n",
      "Number is less please enter greater number \n",
      "\n",
      "7 No of guesses left\n",
      "Hey! Please Guess the number:1\n",
      "Number is less please enter greater number \n",
      "\n",
      "6 No of guesses left\n",
      "Hey! Please Guess the number:19\n",
      "Number is large to guess enter smaller number \n",
      "\n",
      "5 No of guesses left\n",
      "Hey! Please Guess the number:18\n",
      "Congrates you are winner \n",
      "\n",
      "5 Hey you take guesses to finish\n"
     ]
    }
   ],
   "source": [
    "#Exercice\n",
    "\n",
    "n=18\n",
    "\n",
    "num_guess=1\n",
    "\n",
    "print(\"Enter the number but the limit to enter number is 9\")\n",
    "while(num_guess<=19):\n",
    "    guess_number=int(input(\"Hey! Please Guess the number:\"))\n",
    "    if guess_number<18:\n",
    "        print(\"Number is less please enter greater number \\n\")\n",
    "    elif guess_number>18:\n",
    "        print(\"Number is large to guess enter smaller number \\n\")\n",
    "    else:\n",
    "        print(\"Congrates you are winner \\n\")\n",
    "        print(num_guess,\"Hey you take guesses to finish\")\n",
    "        break\n",
    "    print(9-num_guess,\"No of guesses left\")\n",
    "    num_guess+=1\n",
    "    if(num_guess>9):\n",
    "        print(\"GAME OVER\")\n",
    "        print(\"Total number of guesses you have= 5\")"
   ]
  },
  {
   "cell_type": "code",
   "execution_count": null,
   "metadata": {},
   "outputs": [],
   "source": []
  }
 ],
 "metadata": {
  "kernelspec": {
   "display_name": "Python 3",
   "language": "python",
   "name": "python3"
  },
  "language_info": {
   "codemirror_mode": {
    "name": "ipython",
    "version": 3
   },
   "file_extension": ".py",
   "mimetype": "text/x-python",
   "name": "python",
   "nbconvert_exporter": "python",
   "pygments_lexer": "ipython3",
   "version": "3.8.8"
  }
 },
 "nbformat": 4,
 "nbformat_minor": 4
}
