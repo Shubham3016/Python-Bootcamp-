{
 "cells": [
  {
   "cell_type": "markdown",
   "metadata": {},
   "source": [
    "# <font color=\"red\">if Statements\n",
    "\n",
    "Decision making is required when we want to execute a code only if a certain condition is satisfied.\n",
    "\n",
    "The `if…elif…else` statement is used in Python for `decision making`."
   ]
  },
  {
   "cell_type": "markdown",
   "metadata": {},
   "source": [
    "#### An `\"if statement\"` is written by using the `if` keyword"
   ]
  },
  {
   "cell_type": "markdown",
   "metadata": {},
   "source": [
    "### Python if Statement Syntax\n",
    "\n",
    "     if test expression:\n",
    "         statement(s)  \n",
    "\n",
    "Here, the program evaluates the `test expression` and will execute `statement(s)` only if the test expression is True.\n",
    "If the expression of test is False, the statement(s) is not executed"
   ]
  },
  {
   "cell_type": "code",
   "execution_count": 3,
   "metadata": {},
   "outputs": [
    {
     "name": "stdout",
     "output_type": "stream",
     "text": [
      "b is greater then a\n"
     ]
    }
   ],
   "source": [
    "# if statement\n",
    "\n",
    "a = 10\n",
    "b = 20\n",
    "\n",
    "if b > a:\n",
    "    print(\"b is greater then a\")"
   ]
  },
  {
   "cell_type": "markdown",
   "metadata": {},
   "source": [
    "In this example we use two variables, a and b, which are used as part of the if statement to test whether b is greater than a. As a is 10, and b is 20, we know that 20 is greater than 10, and so we will print that \"b is greater than a\"."
   ]
  },
  {
   "cell_type": "code",
   "execution_count": 4,
   "metadata": {},
   "outputs": [
    {
     "name": "stdout",
     "output_type": "stream",
     "text": [
      "it is True\n"
     ]
    }
   ],
   "source": [
    "if True:\n",
    "    print(\"it is True\")"
   ]
  },
  {
   "cell_type": "markdown",
   "metadata": {},
   "source": [
    "### Indentation\n",
    "Python relies on indentation (whitespace at the beginning of a line) to define scope in the code. Other programming languages often use curly-brackets for this purpose."
   ]
  },
  {
   "cell_type": "code",
   "execution_count": 1,
   "metadata": {},
   "outputs": [
    {
     "ename": "IndentationError",
     "evalue": "expected an indented block (<ipython-input-1-3b96f4e6185e>, line 6)",
     "output_type": "error",
     "traceback": [
      "\u001b[1;36m  File \u001b[1;32m\"<ipython-input-1-3b96f4e6185e>\"\u001b[1;36m, line \u001b[1;32m6\u001b[0m\n\u001b[1;33m    print(\"b is greater than a\") # you will get an error\u001b[0m\n\u001b[1;37m    ^\u001b[0m\n\u001b[1;31mIndentationError\u001b[0m\u001b[1;31m:\u001b[0m expected an indented block\n"
     ]
    }
   ],
   "source": [
    "a = 33\n",
    "b = 200\n",
    "\n",
    "if b > a:\n",
    "    \n",
    "print(\"b is greater than a\") # you will get an error"
   ]
  },
  {
   "cell_type": "markdown",
   "metadata": {},
   "source": [
    "### If statement, without indentation (will raise an error):"
   ]
  },
  {
   "cell_type": "markdown",
   "metadata": {},
   "source": [
    "## <font color=\"red\">Python if...else Statement\n",
    "\n",
    "#### Syntax of if...else\n",
    "\n",
    "     if test expression:\n",
    "         Body of if\n",
    "     else:\n",
    "         Body of else\n",
    "\n",
    "Let's add in some else logic:"
   ]
  },
  {
   "cell_type": "code",
   "execution_count": 2,
   "metadata": {},
   "outputs": [
    {
     "name": "stdout",
     "output_type": "stream",
     "text": [
      "x is not True\n"
     ]
    }
   ],
   "source": [
    "x = False\n",
    "\n",
    "if x:\n",
    "    print('x is True')\n",
    "else:\n",
    "\n",
    "    print('x is not True')"
   ]
  },
  {
   "cell_type": "code",
   "execution_count": 3,
   "metadata": {},
   "outputs": [
    {
     "name": "stdout",
     "output_type": "stream",
     "text": [
      "it is Positive or zero\n"
     ]
    }
   ],
   "source": [
    "num = 10\n",
    "\n",
    "if num>=0:\n",
    "    print(\"it is Positive or zero\")\n",
    "else:\n",
    "    print(\"it is negative\")"
   ]
  },
  {
   "cell_type": "code",
   "execution_count": 12,
   "metadata": {},
   "outputs": [
    {
     "name": "stdout",
     "output_type": "stream",
     "text": [
      "Negative\n"
     ]
    }
   ],
   "source": [
    "number=-6\n",
    "\n",
    "if number<10:\n",
    "    print(\"Negative\")\n",
    "else:\n",
    "    print(\"Positive\")"
   ]
  },
  {
   "cell_type": "code",
   "execution_count": 13,
   "metadata": {},
   "outputs": [
    {
     "data": {
      "text/plain": [
       "True"
      ]
     },
     "execution_count": 13,
     "metadata": {},
     "output_type": "execute_result"
    }
   ],
   "source": [
    "-6<10"
   ]
  },
  {
   "cell_type": "code",
   "execution_count": 19,
   "metadata": {},
   "outputs": [
    {
     "name": "stdout",
     "output_type": "stream",
     "text": [
      "it is Negative\n"
     ]
    }
   ],
   "source": [
    "num = -2\n",
    "\n",
    "if num>0:\n",
    "    print(\"it is positive\")\n",
    "else:\n",
    "    print(\"it is Negative\")"
   ]
  },
  {
   "cell_type": "markdown",
   "metadata": {},
   "source": [
    "If num is equal to `-2`, the test expression will return is as `false`. because o is greater then -2"
   ]
  },
  {
   "cell_type": "markdown",
   "metadata": {},
   "source": [
    "## <font color=\"red\"> Python if...elif...else Statement\n",
    "\n",
    "#### Syntax of if...elif...else\n",
    "      \n",
    "    if test expression:\n",
    "        Body of if\n",
    "    elif test expression:\n",
    "        Body of elif\n",
    "    else: \n",
    "        Body of else\n",
    "    \n",
    "* The `elif` is short for else if. It allows us to check for multiple expressions.\n",
    "\n",
    "* If the condition for if is False, it checks the condition of the next `elif` block and so on.\n",
    "* If all the conditions are False, the body of else is executed."
   ]
  },
  {
   "cell_type": "code",
   "execution_count": 16,
   "metadata": {},
   "outputs": [
    {
     "name": "stdout",
     "output_type": "stream",
     "text": [
      "Positive number\n"
     ]
    }
   ],
   "source": [
    "num=3.4\n",
    "\n",
    "if num>2:\n",
    "    print(\"Positive number\")\n",
    "elif num==0:\n",
    "    print(\"zero\")\n",
    "else:\n",
    "    print('Negative number')"
   ]
  },
  {
   "cell_type": "markdown",
   "metadata": {},
   "source": [
    "When variable `num` is positive, Positive number is printed.\n",
    "\n",
    "If `num` is equal to 0, Zero is printed.\n",
    "\n",
    "If `num` is negative, Negative number is printed."
   ]
  },
  {
   "cell_type": "code",
   "execution_count": 17,
   "metadata": {},
   "outputs": [
    {
     "name": "stdout",
     "output_type": "stream",
     "text": [
      "My name is bob\n"
     ]
    }
   ],
   "source": [
    "name = 'Bob'\n",
    "\n",
    "if name == \"alice\":\n",
    "    print(\"my name is alice\")\n",
    "elif name == \"Bob\":\n",
    "    print(\"My name is bob\")\n",
    "else:\n",
    "    print(\"my name is jhon\")\n",
    "    "
   ]
  },
  {
   "cell_type": "code",
   "execution_count": 20,
   "metadata": {},
   "outputs": [
    {
     "name": "stdout",
     "output_type": "stream",
     "text": [
      "Enter the number: 30\n",
      "It is Equal\n"
     ]
    }
   ],
   "source": [
    "n1=65\n",
    "n2=30\n",
    "\n",
    "n3=int(input(\"Enter the number: \"))\n",
    "\n",
    "if (n3>n2):\n",
    "    print(\"Number is Greater \")\n",
    "elif (n3==n2):\n",
    "    print(\"It is Equal\")\n",
    "else:\n",
    "    print(\"number is less\")\n"
   ]
  },
  {
   "cell_type": "code",
   "execution_count": 23,
   "metadata": {},
   "outputs": [
    {
     "name": "stdout",
     "output_type": "stream",
     "text": [
      "You are on right track\n"
     ]
    }
   ],
   "source": [
    "my_list=[2,4,6,8,9]\n",
    "\n",
    "if 6 in my_list:\n",
    "    print(\"You are on right track\")\n",
    "else:\n",
    "    print(\"no wrong\")"
   ]
  },
  {
   "cell_type": "code",
   "execution_count": 24,
   "metadata": {},
   "outputs": [
    {
     "name": "stdout",
     "output_type": "stream",
     "text": [
      "no wrong\n"
     ]
    }
   ],
   "source": [
    "my_list=[2,4,6,8,9]\n",
    "\n",
    "if 3 in my_list:\n",
    "    print(\"You are on right track\")\n",
    "else:\n",
    "    print(\"no wrong\")"
   ]
  },
  {
   "cell_type": "code",
   "execution_count": 33,
   "metadata": {},
   "outputs": [
    {
     "name": "stdout",
     "output_type": "stream",
     "text": [
      "Enter your name:jh\n",
      "jh\n",
      "Enter your age: 18\n",
      "we will think about it\n"
     ]
    }
   ],
   "source": [
    "# EXERCISE to check age is valid or not.\n",
    "\n",
    "print(str(input(\"Enter your name:\")))\n",
    "\n",
    "\n",
    "age=int(input(\"Enter your age: \"))\n",
    "\n",
    "if age<18:\n",
    "    print(\"You are not eligible\")\n",
    "elif(age==18):\n",
    "    print(\"we will think about it\")\n",
    "else:\n",
    "    print(\"You are elgible\")\n"
   ]
  },
  {
   "cell_type": "code",
   "execution_count": 49,
   "metadata": {},
   "outputs": [
    {
     "name": "stdout",
     "output_type": "stream",
     "text": [
      "Enter your age to check licence validation: 22\n",
      "You are eligible for license\n"
     ]
    }
   ],
   "source": [
    "age=int(input(\"Enter your age to check licence validation: \"))\n",
    "\n",
    "\n",
    "if(age<18):\n",
    "    print(\"You are not eligible\")\n",
    "elif(age==18):\n",
    "    print(\"we will think\")\n",
    "elif(18<age<=80):\n",
    "    print(\"You are eligible for license\")\n",
    "else:\n",
    "    print(\"We will think about you\")"
   ]
  },
  {
   "cell_type": "markdown",
   "metadata": {},
   "source": [
    "## Python Nested if statements\n",
    "\n",
    "We can have a if...elif...else statement inside another if...elif...else statement. This is called nesting in computer programming.\n",
    "\n",
    "You can have if statements inside if statements, this is called nested if statements."
   ]
  },
  {
   "cell_type": "code",
   "execution_count": 58,
   "metadata": {},
   "outputs": [
    {
     "name": "stdout",
     "output_type": "stream",
     "text": [
      "Enter a number : 22\n",
      "positive number\n"
     ]
    }
   ],
   "source": [
    "num=int(input(\"Enter a number : \"))\n",
    "\n",
    "if num >= 0:\n",
    "    if num == 0:\n",
    "        print(\"Zero\")\n",
    "    else:\n",
    "        print(\"positive number\")\n",
    "else:\n",
    "    print(\"negative number\")\n",
    "    "
   ]
  },
  {
   "cell_type": "code",
   "execution_count": 59,
   "metadata": {},
   "outputs": [
    {
     "name": "stdout",
     "output_type": "stream",
     "text": [
      "Above ten,\n",
      "and also above 20!\n"
     ]
    }
   ],
   "source": [
    "x = 50\n",
    "\n",
    "if x > 10:\n",
    "    print(\"Above ten,\")\n",
    "    if x > 20:\n",
    "        print(\"and also above 20!\")\n",
    "    else:\n",
    "        print(\"but not above 20.\")"
   ]
  },
  {
   "cell_type": "markdown",
   "metadata": {},
   "source": [
    "## Short Hand If\n",
    "\n",
    "If you have only one statement to execute, you can put it on the same line as the if statement.\n",
    "\n",
    "#### One line if statement:\n"
   ]
  },
  {
   "cell_type": "code",
   "execution_count": 60,
   "metadata": {},
   "outputs": [
    {
     "name": "stdout",
     "output_type": "stream",
     "text": [
      "a is greater than b\n"
     ]
    }
   ],
   "source": [
    "a=20\n",
    "b=10\n",
    "\n",
    "if a > b: print(\"a is greater than b\")"
   ]
  },
  {
   "cell_type": "markdown",
   "metadata": {},
   "source": [
    "## Short Hand If ... Else\n",
    "If you have only one statement to execute, one for if, and one for else, you can put it all on the same line:\n",
    "\n",
    "#### One line if else statement:"
   ]
  },
  {
   "cell_type": "code",
   "execution_count": 46,
   "metadata": {},
   "outputs": [
    {
     "name": "stdout",
     "output_type": "stream",
     "text": [
      "B\n"
     ]
    }
   ],
   "source": [
    "a = 3\n",
    "b = 330\n",
    "print(\"A\")if a > b else print(\"B\")"
   ]
  },
  {
   "cell_type": "markdown",
   "metadata": {},
   "source": [
    "## You can also have multiple else statements on the same line:\n",
    "\n",
    "#### One line if else statement, with 3 conditions:"
   ]
  },
  {
   "cell_type": "code",
   "execution_count": 66,
   "metadata": {},
   "outputs": [
    {
     "name": "stdout",
     "output_type": "stream",
     "text": [
      "=\n"
     ]
    }
   ],
   "source": [
    "a = 330\n",
    "b = 330\n",
    "print(\"A\") if a < b else print(\"=\") if a == b else print(\"B\")"
   ]
  },
  {
   "cell_type": "code",
   "execution_count": 70,
   "metadata": {},
   "outputs": [
    {
     "name": "stdout",
     "output_type": "stream",
     "text": [
      "Both conditions are True\n"
     ]
    }
   ],
   "source": [
    "#a = 200\n",
    "#b = 33\n",
    "#c = 500\n",
    "if 200 > 33 and 500 > 200:\n",
    "    print(\"Both conditions are True\")\n"
   ]
  },
  {
   "cell_type": "code",
   "execution_count": 71,
   "metadata": {},
   "outputs": [
    {
     "name": "stdout",
     "output_type": "stream",
     "text": [
      "Both conditions are True\n"
     ]
    }
   ],
   "source": [
    "a = 20\n",
    "b = 33\n",
    "c = 50\n",
    "if a > b or c > a:\n",
    "    print(\"Both conditions are True\")\n"
   ]
  },
  {
   "cell_type": "markdown",
   "metadata": {},
   "source": [
    "## The pass Statement\n",
    "\n",
    "if statements cannot be empty, but if you for some reason have an if statement with no content, put in the pass statement to avoid getting an error."
   ]
  },
  {
   "cell_type": "code",
   "execution_count": 75,
   "metadata": {},
   "outputs": [],
   "source": [
    "a = 33\n",
    "b = 20\n",
    "\n",
    "if b > a:\n",
    "    pass"
   ]
  },
  {
   "cell_type": "markdown",
   "metadata": {},
   "source": [
    "having an empty if statement like this, would raise an error without the pass statement\n"
   ]
  },
  {
   "cell_type": "code",
   "execution_count": 5,
   "metadata": {},
   "outputs": [
    {
     "name": "stdout",
     "output_type": "stream",
     "text": [
      "20\n",
      "equal\n"
     ]
    }
   ],
   "source": [
    "# Exercise\n",
    "\n",
    "var1=6\n",
    "var2=20\n",
    "\n",
    "var3=int(input())\n",
    "\n",
    "if var3>var2:\n",
    "    print(\"Greater\")\n",
    "elif var3==var2:\n",
    "    print('equal')\n",
    "else:\n",
    "    print(\"lesser\")\n"
   ]
  },
  {
   "cell_type": "code",
   "execution_count": 10,
   "metadata": {},
   "outputs": [
    {
     "name": "stdout",
     "output_type": "stream",
     "text": [
      "yes it is list\n"
     ]
    }
   ],
   "source": [
    "list1=[2,4,5,6]\n",
    "\n",
    "if 5 in list1:\n",
    "    print(\"yes it is in list\")"
   ]
  },
  {
   "cell_type": "markdown",
   "metadata": {},
   "source": [
    "\n",
    "## Excercise 1 - Faulty Calculator\n",
    "\n",
    "#### Design a calculator which will corectly solve all problems except the following ones:\n",
    "#### 45 * 3 = 555 ,\n",
    "#### 56+9 = 77\n",
    "#### 56/6 = 4\n",
    "\n",
    "Your programm should take operator and two numbers as input from the user and return the result\n",
    "print(\"_This is a calculator for your exam_\")\n",
    "Print(\"Please select operation -\\n\"\n",
    "#### \"1. Add\\n\"\n",
    "#### \"2. Subtract\\n\"\n",
    "#### \"3. Multiply\\n\"\n",
    "#### \"4. Divide\\n\")"
   ]
  },
  {
   "cell_type": "code",
   "execution_count": 72,
   "metadata": {},
   "outputs": [
    {
     "name": "stdout",
     "output_type": "stream",
     "text": [
      "Enter the number 1: 56\n",
      "Enter the number 2: 6\n",
      "Enter the Operator: /\n",
      "4\n"
     ]
    }
   ],
   "source": [
    "num1=int(input(\"Enter the number 1: \"))\n",
    "num2=int(input(\"Enter the number 2: \"))\n",
    "\n",
    "opr=input(\"Enter the Operator: \")\n",
    "\n",
    "\n",
    "if num1==45 and num2==3 and opr==\"*\":\n",
    "    print(\"555\")\n",
    "elif num1==56 and num2==9 and opr=='+':\n",
    "    print(\"77\")\n",
    "elif num1==56 and num2==6 and opr=='/':\n",
    "    print(\"4\")\n",
    "else:\n",
    "    if opr==\"+\":\n",
    "        print(num1+num2)\n",
    "    elif opr==\"-\":\n",
    "        print(num1-num2)\n",
    "    elif opr==\"*\":\n",
    "        print(num1*num2)\n",
    "    elif opr==\"/\":\n",
    "        print(num1/num2)\n"
   ]
  },
  {
   "cell_type": "code",
   "execution_count": 79,
   "metadata": {},
   "outputs": [
    {
     "name": "stdout",
     "output_type": "stream",
     "text": [
      "Enter the first number :55\n",
      "Enter the second number :2\n",
      "Enter the operator: +\n",
      "57\n"
     ]
    }
   ],
   "source": [
    "n1=int(input(\"Enter the first number :\"))\n",
    "n2=int(input(\"Enter the second number :\"))\n",
    "\n",
    "opr=input(\"Enter the operator: \")\n",
    "\n",
    "if (n1==45 and n2==3 and opr==\"*\"):\n",
    "    print(\"555\")\n",
    "if(n1==56 and n2==9 and opr==\"+\"):\n",
    "    print(\"77\")\n",
    "if (n1 == 56 and n2 == 6 and opr == \"/\"):\n",
    "    print(\"4\")\n",
    "elif(opr==\"+\"):\n",
    "    print(n1+n2)\n",
    "elif(opr==\"-\"):\n",
    "    print(n1-n2)\n",
    "elif(opr==\"*\"):\n",
    "    print(n1*n2)\n",
    "elif(opr==\"/\"):\n",
    "    print(n1/n2)\n",
    "    "
   ]
  },
  {
   "cell_type": "code",
   "execution_count": null,
   "metadata": {},
   "outputs": [],
   "source": []
  }
 ],
 "metadata": {
  "kernelspec": {
   "display_name": "Python 3",
   "language": "python",
   "name": "python3"
  },
  "language_info": {
   "codemirror_mode": {
    "name": "ipython",
    "version": 3
   },
   "file_extension": ".py",
   "mimetype": "text/x-python",
   "name": "python",
   "nbconvert_exporter": "python",
   "pygments_lexer": "ipython3",
   "version": "3.8.8"
  }
 },
 "nbformat": 4,
 "nbformat_minor": 4
}
