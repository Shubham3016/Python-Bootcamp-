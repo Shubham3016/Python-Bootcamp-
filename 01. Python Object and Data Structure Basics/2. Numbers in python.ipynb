{
 "cells": [
  {
   "cell_type": "markdown",
   "id": "8311cba7",
   "metadata": {},
   "source": [
    "## 1) Types of numbers\n",
    "\n",
    "\n",
    "- Integers are just whole numbers, positive or negative.\n",
    "\n",
    "- Python has various \"types\" of numbers (numeric literals). that are the `integers` and `floating point numbers`.\n",
    "\n",
    "- Integers are just whole numbers, positive or negative. **For example: 4 and -5 are examples of integers.**\n",
    "\n",
    "- Floating point numbers in Python are notable because they have a **decimal point** in them.\n",
    "\n",
    "\n",
    "**Example of floating point number in Python.**\n",
    "\n",
    "Decimal points(Floating point): **2.5, 5.5, 6.5, 7.55**"
   ]
  },
  {
   "cell_type": "markdown",
   "id": "fdf44673",
   "metadata": {},
   "source": [
    "| Examples        |  Number \"Data Type\"   |\n",
    "|-----------------|-----------------------|\n",
    "| 4,7,-5,4000     | Integers              |\n",
    "|||\n",
    "|4.2,-0.5,2e2,3E2 | Floating-point numbers|"
   ]
  },
  {
   "cell_type": "markdown",
   "id": "60553c00",
   "metadata": {},
   "source": [
    "### Python as basic calculator"
   ]
  },
  {
   "cell_type": "code",
   "execution_count": 1,
   "id": "665a4c2b",
   "metadata": {},
   "outputs": [
    {
     "name": "stdout",
     "output_type": "stream",
     "text": [
      "10\n"
     ]
    }
   ],
   "source": [
    "# Addition of two number\n",
    "\n",
    "\n",
    "print(5+5)"
   ]
  },
  {
   "cell_type": "code",
   "execution_count": 2,
   "id": "8a6a6280",
   "metadata": {},
   "outputs": [
    {
     "name": "stdout",
     "output_type": "stream",
     "text": [
      "8\n"
     ]
    }
   ],
   "source": [
    "# Substraction of two numbers\n",
    "\n",
    "print(10-2)"
   ]
  },
  {
   "cell_type": "code",
   "execution_count": 3,
   "id": "105534bb",
   "metadata": {},
   "outputs": [
    {
     "name": "stdout",
     "output_type": "stream",
     "text": [
      "25\n"
     ]
    }
   ],
   "source": [
    "# Multiplicaion of two numbers\n",
    "\n",
    "print(5*5)"
   ]
  },
  {
   "cell_type": "code",
   "execution_count": 4,
   "id": "754e02f5",
   "metadata": {},
   "outputs": [
    {
     "name": "stdout",
     "output_type": "stream",
     "text": [
      "4.0\n"
     ]
    }
   ],
   "source": [
    "# Division of two numbers\n",
    "\n",
    "print(20/5)"
   ]
  },
  {
   "cell_type": "code",
   "execution_count": 5,
   "id": "c2ca9d9d",
   "metadata": {},
   "outputs": [
    {
     "name": "stdout",
     "output_type": "stream",
     "text": [
      "4\n"
     ]
    }
   ],
   "source": [
    "# Floor division\n",
    "\n",
    "print(20//5)"
   ]
  },
  {
   "cell_type": "markdown",
   "id": "5e100a67",
   "metadata": {},
   "source": [
    "### Difference between division and floor division \n",
    "\n",
    "The reason we get this result is because we are using `floor` division. The `**//**` operator (two forward slashes) truncates the decimal without rounding, and returns an integer result.\n",
    "\n",
    "Division gives the output in Decimal format while floor division gives the output in number format"
   ]
  },
  {
   "cell_type": "code",
   "execution_count": 6,
   "id": "452d55b3",
   "metadata": {},
   "outputs": [
    {
     "name": "stdout",
     "output_type": "stream",
     "text": [
      "1\n"
     ]
    }
   ],
   "source": [
    "# Modulo which can also called as remainder\n",
    "\n",
    "\n",
    "print(21%2)\n",
    "\n",
    "# when we divide the number 21 by 2 we get the remainder is 1 "
   ]
  },
  {
   "cell_type": "code",
   "execution_count": 8,
   "id": "b40ec9f6",
   "metadata": {},
   "outputs": [
    {
     "name": "stdout",
     "output_type": "stream",
     "text": [
      "0\n"
     ]
    }
   ],
   "source": [
    "print(30%2)\n",
    "\n",
    "# Here remainder is 0 when we divide 30 by 2"
   ]
  },
  {
   "cell_type": "code",
   "execution_count": 9,
   "id": "1f857b69",
   "metadata": {},
   "outputs": [
    {
     "name": "stdout",
     "output_type": "stream",
     "text": [
      "8\n",
      "8\n"
     ]
    }
   ],
   "source": [
    "# Exponential or powers\n",
    "\n",
    "# which can also called as cube of 2.\n",
    "# There are two methods to find cube (2*2*2) and second is (2**3)\n",
    "\n",
    "print(2*2*2)\n",
    "\n",
    "\n",
    "print(2**3)\n"
   ]
  },
  {
   "cell_type": "code",
   "execution_count": 10,
   "id": "2c34bfd0",
   "metadata": {},
   "outputs": [
    {
     "name": "stdout",
     "output_type": "stream",
     "text": [
      "2.0\n"
     ]
    }
   ],
   "source": [
    "# Square root\n",
    "\n",
    "print(4*0.5)"
   ]
  },
  {
   "cell_type": "code",
   "execution_count": 11,
   "id": "21fba247",
   "metadata": {},
   "outputs": [
    {
     "data": {
      "text/plain": [
       "0.5"
      ]
     },
     "execution_count": 11,
     "metadata": {},
     "output_type": "execute_result"
    }
   ],
   "source": [
    "1/2"
   ]
  },
  {
   "cell_type": "code",
   "execution_count": 12,
   "id": "4faba8db",
   "metadata": {},
   "outputs": [
    {
     "name": "stdout",
     "output_type": "stream",
     "text": [
      "2.0\n"
     ]
    }
   ],
   "source": [
    "print(4*1/2)"
   ]
  },
  {
   "cell_type": "markdown",
   "id": "911b904c",
   "metadata": {},
   "source": [
    "### These are the basic arithmatic methods that can be used in python"
   ]
  },
  {
   "cell_type": "code",
   "execution_count": 13,
   "id": "6ec60336",
   "metadata": {},
   "outputs": [
    {
     "name": "stdout",
     "output_type": "stream",
     "text": [
      "29\n"
     ]
    }
   ],
   "source": [
    "# Basic operators in python\n",
    "\n",
    "\n",
    "print(4+5*4+5)\n",
    "\n",
    "# here it will first multiply the values and then add it"
   ]
  },
  {
   "cell_type": "code",
   "execution_count": 14,
   "id": "c8db0efd",
   "metadata": {},
   "outputs": [
    {
     "data": {
      "text/plain": [
       "29"
      ]
     },
     "execution_count": 14,
     "metadata": {},
     "output_type": "execute_result"
    }
   ],
   "source": [
    "4+20+5"
   ]
  },
  {
   "cell_type": "code",
   "execution_count": 15,
   "id": "23a3270a",
   "metadata": {},
   "outputs": [
    {
     "name": "stdout",
     "output_type": "stream",
     "text": [
      "81\n"
     ]
    }
   ],
   "source": [
    "# Use of brackets \n",
    "\n",
    "\n",
    "print((4+5)*(4+5))"
   ]
  },
  {
   "cell_type": "code",
   "execution_count": 37,
   "id": "42564d5c",
   "metadata": {},
   "outputs": [],
   "source": [
    "# Here we can see the results first it will solve the brackets and then multiply the values"
   ]
  },
  {
   "cell_type": "code",
   "execution_count": 18,
   "id": "f6097fcc",
   "metadata": {},
   "outputs": [
    {
     "name": "stdout",
     "output_type": "stream",
     "text": [
      "13455667\n"
     ]
    }
   ],
   "source": [
    "n=1_3_455_667\n",
    "\n",
    "print(n)"
   ]
  },
  {
   "cell_type": "code",
   "execution_count": 17,
   "id": "beda1ccc",
   "metadata": {},
   "outputs": [
    {
     "data": {
      "text/plain": [
       "int"
      ]
     },
     "execution_count": 17,
     "metadata": {},
     "output_type": "execute_result"
    }
   ],
   "source": [
    "type(n)"
   ]
  },
  {
   "cell_type": "code",
   "execution_count": null,
   "id": "45e61132",
   "metadata": {},
   "outputs": [],
   "source": []
  }
 ],
 "metadata": {
  "kernelspec": {
   "display_name": "Python 3",
   "language": "python",
   "name": "python3"
  },
  "language_info": {
   "codemirror_mode": {
    "name": "ipython",
    "version": 3
   },
   "file_extension": ".py",
   "mimetype": "text/x-python",
   "name": "python",
   "nbconvert_exporter": "python",
   "pygments_lexer": "ipython3",
   "version": "3.8.8"
  }
 },
 "nbformat": 4,
 "nbformat_minor": 5
}
