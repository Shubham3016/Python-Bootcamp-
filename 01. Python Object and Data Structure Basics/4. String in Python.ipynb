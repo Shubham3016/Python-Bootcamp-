{
 "cells": [
  {
   "cell_type": "markdown",
   "id": "ed06780c",
   "metadata": {},
   "source": [
    "### Strings\n",
    "\n",
    "Strings are used in Python to record text information, such as names. Strings in Python are actually a sequence, which basically means Python keeps track of every element in the string as a sequence."
   ]
  },
  {
   "cell_type": "markdown",
   "id": "88075b14",
   "metadata": {},
   "source": [
    "#### Creating a String\n",
    "To create a string in Python you need to use either single quotes or double quotes. For example:"
   ]
  },
  {
   "cell_type": "code",
   "execution_count": 1,
   "id": "3a9b2d42",
   "metadata": {},
   "outputs": [
    {
     "name": "stdout",
     "output_type": "stream",
     "text": [
      "Welcome\n"
     ]
    }
   ],
   "source": [
    "# Single quotes\n",
    "\n",
    "print('Welcome')"
   ]
  },
  {
   "cell_type": "code",
   "execution_count": 2,
   "id": "6d671122",
   "metadata": {},
   "outputs": [
    {
     "name": "stdout",
     "output_type": "stream",
     "text": [
      "Welcome\n"
     ]
    }
   ],
   "source": [
    "# Double quotes\n",
    "\n",
    "print(\"Welcome\")"
   ]
  },
  {
   "cell_type": "code",
   "execution_count": 2,
   "id": "b6dfd7e7",
   "metadata": {},
   "outputs": [
    {
     "name": "stdout",
     "output_type": "stream",
     "text": [
      "Python is programming language\n"
     ]
    }
   ],
   "source": [
    "# Entire word using single quotes\n",
    "\n",
    "print('Python is programming language')"
   ]
  },
  {
   "cell_type": "code",
   "execution_count": 3,
   "id": "cd49cfd7",
   "metadata": {},
   "outputs": [
    {
     "ename": "SyntaxError",
     "evalue": "invalid syntax (<ipython-input-3-290cfee6fdd3>, line 3)",
     "output_type": "error",
     "traceback": [
      "\u001b[1;36m  File \u001b[1;32m\"<ipython-input-3-290cfee6fdd3>\"\u001b[1;36m, line \u001b[1;32m3\u001b[0m\n\u001b[1;33m    print('i'am a quick learner')\u001b[0m\n\u001b[1;37m             ^\u001b[0m\n\u001b[1;31mSyntaxError\u001b[0m\u001b[1;31m:\u001b[0m invalid syntax\n"
     ]
    }
   ],
   "source": [
    "# Entire word using single quotes\n",
    "\n",
    "print('i'am a quick learner')"
   ]
  },
  {
   "cell_type": "markdown",
   "id": "92e32c35",
   "metadata": {},
   "source": [
    "#### Here we can see that it shows the error as the single quotes(' ') can sometime faces an issue.\n",
    "\n",
    "As single quotes shows an error as `'i'` it closes before am so using the double quotes can be useful.\n"
   ]
  },
  {
   "cell_type": "code",
   "execution_count": 4,
   "id": "e8f71ee6",
   "metadata": {},
   "outputs": [
    {
     "name": "stdout",
     "output_type": "stream",
     "text": [
      "'i'am a quick learner\n"
     ]
    }
   ],
   "source": [
    "print(\"'i'am a quick learner\")"
   ]
  },
  {
   "cell_type": "markdown",
   "id": "a7072989",
   "metadata": {},
   "source": [
    "#### Here we can see that the double quotes (\" \") does not shows an error"
   ]
  },
  {
   "cell_type": "markdown",
   "id": "7deffda6",
   "metadata": {},
   "source": [
    "### String Formating\n",
    "\n",
    "- `\\n` - **New line**\n",
    "\n",
    "- `\\t` - **tab for spacing**\n",
    "\n",
    "- `%s` - **String (or any object with a string representation, like numbers)**\n",
    "\n",
    "- `%d` - **Integers**\n",
    "\n",
    "- `%f` - **Floating point numbers**"
   ]
  },
  {
   "cell_type": "code",
   "execution_count": 1,
   "id": "4a07ac86",
   "metadata": {},
   "outputs": [
    {
     "name": "stdout",
     "output_type": "stream",
     "text": [
      "Hi \n",
      " I am using Python\n"
     ]
    }
   ],
   "source": [
    "print(\"Hi \\n I am using Python\")"
   ]
  },
  {
   "cell_type": "code",
   "execution_count": 2,
   "id": "c9946539",
   "metadata": {},
   "outputs": [
    {
     "name": "stdout",
     "output_type": "stream",
     "text": [
      "Hii \t I am using java\n"
     ]
    }
   ],
   "source": [
    "print(\"Hii \\t I am using java\")"
   ]
  },
  {
   "cell_type": "code",
   "execution_count": 7,
   "id": "90bafc1e",
   "metadata": {},
   "outputs": [
    {
     "name": "stdout",
     "output_type": "stream",
     "text": [
      "Hii welcome to Course and learn Python programming language.\n"
     ]
    }
   ],
   "source": [
    "print(\"Hii welcome to %s and learn %s programming language.\"%('Course','Python'))\n",
    "\n",
    "# Here we can see that %s is use to denote the string and %d is use to denote integer. "
   ]
  },
  {
   "cell_type": "code",
   "execution_count": 9,
   "id": "2a5d29b9",
   "metadata": {},
   "outputs": [
    {
     "name": "stdout",
     "output_type": "stream",
     "text": [
      "My name is bob and my age is 22 and height is 50.400000\n"
     ]
    }
   ],
   "source": [
    "print(\"My name is %s and my age is %d and height is %f\"%(\"bob\",22,50.4))"
   ]
  },
  {
   "cell_type": "code",
   "execution_count": 11,
   "id": "c733816b",
   "metadata": {},
   "outputs": [
    {
     "name": "stdout",
     "output_type": "stream",
     "text": [
      "My name is Alice and my age is 23 and height is 50.40\n"
     ]
    }
   ],
   "source": [
    "print(\"My name is %s and my age is %d and height is %1.2f\"%('Alice',23,50.4))"
   ]
  },
  {
   "cell_type": "markdown",
   "id": "1b1e899f",
   "metadata": {},
   "source": [
    "### String Indexing"
   ]
  },
  {
   "cell_type": "code",
   "execution_count": 12,
   "id": "7889dda8",
   "metadata": {},
   "outputs": [
    {
     "name": "stdout",
     "output_type": "stream",
     "text": [
      "Welcome\n"
     ]
    }
   ],
   "source": [
    "x=\"Welcome\"\n",
    "print(x)"
   ]
  },
  {
   "cell_type": "markdown",
   "id": "8799d667",
   "metadata": {},
   "source": [
    " `0  1  2  3  4  5  6 `\n",
    "\n",
    " `W  e  l  c  o  m  e`\n",
    "\n",
    "`-7 -6 -5 -4 -3 -2 -1`"
   ]
  },
  {
   "cell_type": "markdown",
   "id": "a43acd63",
   "metadata": {},
   "source": [
    "### In python we use the concept of indexing and we use [] square brackets.\n"
   ]
  },
  {
   "cell_type": "code",
   "execution_count": 36,
   "id": "db950867",
   "metadata": {},
   "outputs": [
    {
     "name": "stdout",
     "output_type": "stream",
     "text": [
      "W\n"
     ]
    }
   ],
   "source": [
    "print(x[0])"
   ]
  },
  {
   "cell_type": "code",
   "execution_count": 37,
   "id": "d6b508a8",
   "metadata": {},
   "outputs": [
    {
     "name": "stdout",
     "output_type": "stream",
     "text": [
      "e\n"
     ]
    }
   ],
   "source": [
    "print(x[1])"
   ]
  },
  {
   "cell_type": "code",
   "execution_count": 38,
   "id": "dc451c84",
   "metadata": {},
   "outputs": [
    {
     "name": "stdout",
     "output_type": "stream",
     "text": [
      "l\n"
     ]
    }
   ],
   "source": [
    "print(x[2])"
   ]
  },
  {
   "cell_type": "code",
   "execution_count": 39,
   "id": "796d8951",
   "metadata": {},
   "outputs": [
    {
     "name": "stdout",
     "output_type": "stream",
     "text": [
      "c\n"
     ]
    }
   ],
   "source": [
    "print(x[3])"
   ]
  },
  {
   "cell_type": "code",
   "execution_count": 40,
   "id": "f1d5004b",
   "metadata": {},
   "outputs": [
    {
     "name": "stdout",
     "output_type": "stream",
     "text": [
      "o\n"
     ]
    }
   ],
   "source": [
    "print(x[4])"
   ]
  },
  {
   "cell_type": "code",
   "execution_count": 41,
   "id": "d0a8bfa7",
   "metadata": {},
   "outputs": [
    {
     "name": "stdout",
     "output_type": "stream",
     "text": [
      "m\n"
     ]
    }
   ],
   "source": [
    "print(x[5])"
   ]
  },
  {
   "cell_type": "code",
   "execution_count": 42,
   "id": "9d2b7ab2",
   "metadata": {},
   "outputs": [
    {
     "name": "stdout",
     "output_type": "stream",
     "text": [
      "e\n"
     ]
    }
   ],
   "source": [
    "print(x[6])"
   ]
  },
  {
   "cell_type": "markdown",
   "id": "cdd6ca1a",
   "metadata": {},
   "source": [
    "#### We can use a `:` to perform slicing which grabs everything up to a designated point. For example:"
   ]
  },
  {
   "cell_type": "code",
   "execution_count": 30,
   "id": "5254b0af",
   "metadata": {},
   "outputs": [
    {
     "name": "stdout",
     "output_type": "stream",
     "text": [
      "Welcome\n"
     ]
    }
   ],
   "source": [
    "# print whole word \n",
    "\n",
    "print(x[0:7])"
   ]
  },
  {
   "cell_type": "code",
   "execution_count": 43,
   "id": "63054c88",
   "metadata": {},
   "outputs": [
    {
     "name": "stdout",
     "output_type": "stream",
     "text": [
      "Welcome\n"
     ]
    }
   ],
   "source": [
    "# we can use the :7 \n",
    "\n",
    "print(x[:7])"
   ]
  },
  {
   "cell_type": "code",
   "execution_count": 31,
   "id": "d2fd7f88",
   "metadata": {},
   "outputs": [
    {
     "name": "stdout",
     "output_type": "stream",
     "text": [
      "Wel\n"
     ]
    }
   ],
   "source": [
    "# print wel\n",
    "\n",
    "print(x[0:3])"
   ]
  },
  {
   "cell_type": "code",
   "execution_count": 44,
   "id": "64eac6a8",
   "metadata": {},
   "outputs": [
    {
     "name": "stdout",
     "output_type": "stream",
     "text": [
      "Wel\n"
     ]
    }
   ],
   "source": [
    "print(x[:3])"
   ]
  },
  {
   "cell_type": "code",
   "execution_count": 33,
   "id": "4b258285",
   "metadata": {},
   "outputs": [
    {
     "name": "stdout",
     "output_type": "stream",
     "text": [
      "come\n"
     ]
    }
   ],
   "source": [
    "# print come\n",
    "\n",
    "print(x[3:7])"
   ]
  },
  {
   "cell_type": "code",
   "execution_count": 45,
   "id": "18fe3092",
   "metadata": {},
   "outputs": [
    {
     "name": "stdout",
     "output_type": "stream",
     "text": [
      "come\n"
     ]
    }
   ],
   "source": [
    "print(x[3:])"
   ]
  },
  {
   "cell_type": "code",
   "execution_count": 34,
   "id": "1f7976a5",
   "metadata": {},
   "outputs": [
    {
     "name": "stdout",
     "output_type": "stream",
     "text": [
      "Welco\n"
     ]
    }
   ],
   "source": [
    "# print welco\n",
    "\n",
    "print(x[0:5])"
   ]
  },
  {
   "cell_type": "code",
   "execution_count": 46,
   "id": "9ac8ebd3",
   "metadata": {},
   "outputs": [
    {
     "name": "stdout",
     "output_type": "stream",
     "text": [
      "Welco\n"
     ]
    }
   ],
   "source": [
    "print(x[:5])"
   ]
  },
  {
   "cell_type": "code",
   "execution_count": 51,
   "id": "f447dd84",
   "metadata": {},
   "outputs": [
    {
     "name": "stdout",
     "output_type": "stream",
     "text": [
      "Welcome\n"
     ]
    }
   ],
   "source": [
    "# Grab everything\n",
    "\n",
    "print(x[::])"
   ]
  },
  {
   "cell_type": "markdown",
   "id": "7346586d",
   "metadata": {},
   "source": [
    "We can also use negative indexing to go backwards."
   ]
  },
  {
   "cell_type": "code",
   "execution_count": 52,
   "id": "a76fe05a",
   "metadata": {},
   "outputs": [
    {
     "name": "stdout",
     "output_type": "stream",
     "text": [
      "Welcome\n"
     ]
    }
   ],
   "source": [
    "print(x)"
   ]
  },
  {
   "cell_type": "code",
   "execution_count": 63,
   "id": "be564317",
   "metadata": {},
   "outputs": [
    {
     "name": "stdout",
     "output_type": "stream",
     "text": [
      "W\n"
     ]
    }
   ],
   "source": [
    "print(x[-7:1])"
   ]
  },
  {
   "cell_type": "code",
   "execution_count": 64,
   "id": "ab605d92",
   "metadata": {},
   "outputs": [
    {
     "name": "stdout",
     "output_type": "stream",
     "text": [
      "e\n"
     ]
    }
   ],
   "source": [
    "print(x[-1])"
   ]
  },
  {
   "cell_type": "code",
   "execution_count": 65,
   "id": "eaf2344e",
   "metadata": {},
   "outputs": [
    {
     "name": "stdout",
     "output_type": "stream",
     "text": [
      "m\n"
     ]
    }
   ],
   "source": [
    "print(x[-2])"
   ]
  },
  {
   "cell_type": "code",
   "execution_count": 66,
   "id": "5c68d451",
   "metadata": {},
   "outputs": [
    {
     "name": "stdout",
     "output_type": "stream",
     "text": [
      "o\n"
     ]
    }
   ],
   "source": [
    "print(x[-3])"
   ]
  },
  {
   "cell_type": "code",
   "execution_count": 67,
   "id": "ad1acb80",
   "metadata": {},
   "outputs": [
    {
     "name": "stdout",
     "output_type": "stream",
     "text": [
      "c\n"
     ]
    }
   ],
   "source": [
    "print(x[-4])"
   ]
  },
  {
   "cell_type": "code",
   "execution_count": 68,
   "id": "3e8aac5b",
   "metadata": {},
   "outputs": [
    {
     "name": "stdout",
     "output_type": "stream",
     "text": [
      "l\n"
     ]
    }
   ],
   "source": [
    "print(x[-5])"
   ]
  },
  {
   "cell_type": "code",
   "execution_count": 69,
   "id": "bbbbfec8",
   "metadata": {},
   "outputs": [
    {
     "name": "stdout",
     "output_type": "stream",
     "text": [
      "e\n"
     ]
    }
   ],
   "source": [
    "print(x[-6])"
   ]
  },
  {
   "cell_type": "code",
   "execution_count": 70,
   "id": "bb051c83",
   "metadata": {},
   "outputs": [
    {
     "name": "stdout",
     "output_type": "stream",
     "text": [
      "W\n"
     ]
    }
   ],
   "source": [
    "print(x[-7])"
   ]
  },
  {
   "cell_type": "code",
   "execution_count": 71,
   "id": "ab8a4c5d",
   "metadata": {},
   "outputs": [
    {
     "name": "stdout",
     "output_type": "stream",
     "text": [
      "W\n"
     ]
    }
   ],
   "source": [
    "print(x[-0])"
   ]
  },
  {
   "cell_type": "code",
   "execution_count": 73,
   "id": "aa71f929",
   "metadata": {},
   "outputs": [
    {
     "name": "stdout",
     "output_type": "stream",
     "text": [
      "Believe yourself\n",
      "B\n",
      "B\n",
      "B\n",
      "s\n",
      "s\n"
     ]
    }
   ],
   "source": [
    "mystring=\"Believe yourself\"\n",
    "print(mystring)\n",
    "\n",
    "# using indexing print first charcter B\n",
    " \n",
    "print(mystring[0])\n",
    "print(mystring[-0])\n",
    "print(mystring[-16])\n",
    "\n",
    "# using indexing print s\n",
    "\n",
    "print(mystring[12])\n",
    "print(mystring[-4])\n"
   ]
  },
  {
   "cell_type": "code",
   "execution_count": 17,
   "id": "586aa981",
   "metadata": {},
   "outputs": [
    {
     "name": "stdout",
     "output_type": "stream",
     "text": [
      "abcdefgh\n",
      "abc\n",
      "abc\n",
      "abc\n",
      "abc\n"
     ]
    }
   ],
   "source": [
    "# NEW STRING\n",
    "alpha=\"abcdefgh\"\n",
    "print(alpha)\n",
    "\n",
    "#print abc using indexing\n",
    "print(alpha[0:3])\n",
    "print(alpha[:3])\n",
    "print(alpha[-0:-5])\n",
    "print(alpha[:-5])\n"
   ]
  },
  {
   "cell_type": "code",
   "execution_count": 18,
   "id": "27fd5e55",
   "metadata": {},
   "outputs": [
    {
     "name": "stdout",
     "output_type": "stream",
     "text": [
      "defgh\n",
      "defgh\n",
      "bcdef\n",
      "bcdef\n",
      "abcdefgh\n",
      "abcdefgh\n",
      "abcdefgh\n"
     ]
    }
   ],
   "source": [
    "\n",
    "print(alpha[3:])\n",
    "print(alpha[-5:])\n",
    "\n",
    "# print the string upto\n",
    "#print the sting b to f\n",
    "\n",
    "print(alpha[1:6])\n",
    "print(alpha[-7:-2])\n",
    "\n",
    "# string indexing using steps\n",
    "\n",
    "print(alpha[:])\n",
    "\n",
    "print(alpha[::])\n",
    "\n",
    "print(alpha)\n"
   ]
  },
  {
   "cell_type": "code",
   "execution_count": 19,
   "id": "3836914a",
   "metadata": {},
   "outputs": [
    {
     "name": "stdout",
     "output_type": "stream",
     "text": [
      "abcdefgh\n",
      "abcdefgh\n"
     ]
    }
   ],
   "source": [
    "### Indexing using steps\n",
    "\n",
    "print(alpha[0::1])\n",
    "print(alpha[::1])\n"
   ]
  },
  {
   "cell_type": "code",
   "execution_count": 20,
   "id": "8f13e04d",
   "metadata": {},
   "outputs": [
    {
     "name": "stdout",
     "output_type": "stream",
     "text": [
      "aceg\n",
      "aceg\n"
     ]
    }
   ],
   "source": [
    "print(alpha[0::2])\n",
    "\n",
    "print(alpha[::2])\n"
   ]
  },
  {
   "cell_type": "code",
   "execution_count": 21,
   "id": "8012741e",
   "metadata": {},
   "outputs": [
    {
     "name": "stdout",
     "output_type": "stream",
     "text": [
      "adg\n"
     ]
    }
   ],
   "source": [
    "print(alpha[0::3])"
   ]
  },
  {
   "cell_type": "code",
   "execution_count": 87,
   "id": "5704e919",
   "metadata": {},
   "outputs": [
    {
     "name": "stdout",
     "output_type": "stream",
     "text": [
      "adg\n"
     ]
    }
   ],
   "source": [
    "print(alpha[::3])"
   ]
  },
  {
   "cell_type": "code",
   "execution_count": 89,
   "id": "03e1ee2a",
   "metadata": {},
   "outputs": [
    {
     "name": "stdout",
     "output_type": "stream",
     "text": [
      "hgfedcba\n"
     ]
    }
   ],
   "source": [
    "print(alpha[::-1])"
   ]
  },
  {
   "cell_type": "code",
   "execution_count": 90,
   "id": "7b163362",
   "metadata": {},
   "outputs": [
    {
     "name": "stdout",
     "output_type": "stream",
     "text": [
      "hfdb\n"
     ]
    }
   ],
   "source": [
    "print(alpha[::-2])"
   ]
  },
  {
   "cell_type": "markdown",
   "id": "f9ea729a",
   "metadata": {},
   "source": [
    "### String Properties\n",
    "\n",
    "It's important to note that strings have an important property known as immutability. This means that once a string is created, the elements within it can not be changed or replaced. For example:"
   ]
  },
  {
   "cell_type": "code",
   "execution_count": 91,
   "id": "354d4151",
   "metadata": {},
   "outputs": [
    {
     "name": "stdout",
     "output_type": "stream",
     "text": [
      "python\n"
     ]
    }
   ],
   "source": [
    "# string is immutable means we cannot make changes in the string\n",
    "a=\"python\"\n",
    "print(a)"
   ]
  },
  {
   "cell_type": "code",
   "execution_count": 97,
   "id": "6f18db16",
   "metadata": {},
   "outputs": [
    {
     "ename": "SyntaxError",
     "evalue": "expression cannot contain assignment, perhaps you meant \"==\"? (<ipython-input-97-65e27e362ea7>, line 1)",
     "output_type": "error",
     "traceback": [
      "\u001b[1;36m  File \u001b[1;32m\"<ipython-input-97-65e27e362ea7>\"\u001b[1;36m, line \u001b[1;32m1\u001b[0m\n\u001b[1;33m    print(a[1]=\"ddd\")\u001b[0m\n\u001b[1;37m          ^\u001b[0m\n\u001b[1;31mSyntaxError\u001b[0m\u001b[1;31m:\u001b[0m expression cannot contain assignment, perhaps you meant \"==\"?\n"
     ]
    }
   ],
   "source": [
    "print(a[1]=\"ddd\")"
   ]
  },
  {
   "cell_type": "code",
   "execution_count": 14,
   "id": "5cc408f7",
   "metadata": {},
   "outputs": [],
   "source": [
    "a=\"Welcome\""
   ]
  },
  {
   "cell_type": "code",
   "execution_count": 15,
   "id": "4f5d34ea",
   "metadata": {},
   "outputs": [
    {
     "name": "stdout",
     "output_type": "stream",
     "text": [
      "Welcome\n"
     ]
    }
   ],
   "source": [
    "print(a)"
   ]
  },
  {
   "cell_type": "code",
   "execution_count": 16,
   "id": "7be54d46",
   "metadata": {},
   "outputs": [],
   "source": [
    "a=a+\"To python\""
   ]
  },
  {
   "cell_type": "code",
   "execution_count": 107,
   "id": "1c13f850",
   "metadata": {},
   "outputs": [
    {
     "name": "stdout",
     "output_type": "stream",
     "text": [
      "WelcomeTo python\n"
     ]
    }
   ],
   "source": [
    "print(a)"
   ]
  },
  {
   "cell_type": "code",
   "execution_count": 110,
   "id": "05e9ec99",
   "metadata": {},
   "outputs": [
    {
     "name": "stdout",
     "output_type": "stream",
     "text": [
      "aaaaaaaaaa\n"
     ]
    }
   ],
   "source": [
    "my_word=\"a\"\n",
    "print(my_word*10)"
   ]
  },
  {
   "cell_type": "code",
   "execution_count": 9,
   "id": "3d94caed",
   "metadata": {},
   "outputs": [
    {
     "name": "stdout",
     "output_type": "stream",
     "text": [
      "aaa\n"
     ]
    }
   ],
   "source": [
    "my_word=\"aaa\"\n",
    "print(my_word)"
   ]
  },
  {
   "cell_type": "code",
   "execution_count": 26,
   "id": "d239d2b2",
   "metadata": {},
   "outputs": [
    {
     "name": "stdout",
     "output_type": "stream",
     "text": [
      "Python is programming language\n"
     ]
    }
   ],
   "source": [
    "word=\"Python is programming language\"\n",
    "print(word)"
   ]
  },
  {
   "cell_type": "code",
   "execution_count": 27,
   "id": "ed5cbb21",
   "metadata": {},
   "outputs": [
    {
     "name": "stdout",
     "output_type": "stream",
     "text": [
      "Python is programming language\n"
     ]
    }
   ],
   "source": [
    "# Converts the first character to upper case\n",
    "\n",
    "print(word.capitalize())\n"
   ]
  },
  {
   "cell_type": "code",
   "execution_count": 25,
   "id": "2a1ed768",
   "metadata": {},
   "outputs": [
    {
     "name": "stdout",
     "output_type": "stream",
     "text": [
      "hello\n"
     ]
    }
   ],
   "source": [
    "# Converts string into lower case\n",
    "\n",
    "print(word.casefold())"
   ]
  },
  {
   "cell_type": "code",
   "execution_count": 28,
   "id": "bc41a43f",
   "metadata": {},
   "outputs": [
    {
     "name": "stdout",
     "output_type": "stream",
     "text": [
      "          Python is programming language          \n"
     ]
    }
   ],
   "source": [
    "# Returns a centered string\n",
    "\n",
    "print(word.center(50))"
   ]
  },
  {
   "cell_type": "code",
   "execution_count": 31,
   "id": "fd0017bb",
   "metadata": {},
   "outputs": [
    {
     "name": "stdout",
     "output_type": "stream",
     "text": [
      "1\n"
     ]
    }
   ],
   "source": [
    "# Returns the number of times a specified value occurs in a string\n",
    "\n",
    "print(word.count('p'))"
   ]
  },
  {
   "cell_type": "code",
   "execution_count": 32,
   "id": "88e51835",
   "metadata": {},
   "outputs": [
    {
     "name": "stdout",
     "output_type": "stream",
     "text": [
      "b'Python is programming language'\n"
     ]
    }
   ],
   "source": [
    "print(word.encode())"
   ]
  },
  {
   "cell_type": "code",
   "execution_count": 33,
   "id": "d41a6b9d",
   "metadata": {},
   "outputs": [
    {
     "name": "stdout",
     "output_type": "stream",
     "text": [
      "True\n"
     ]
    }
   ],
   "source": [
    "print(word.endswith('e'))"
   ]
  },
  {
   "cell_type": "code",
   "execution_count": 41,
   "id": "8bb7e3c6",
   "metadata": {},
   "outputs": [
    {
     "name": "stdout",
     "output_type": "stream",
     "text": [
      "H     e     l     l     o\n"
     ]
    }
   ],
   "source": [
    "txt = \"H\\te\\tl\\tl\\to\"\n",
    "\n",
    "x =  txt.expandtabs(6)\n",
    "\n",
    "print(x)"
   ]
  },
  {
   "cell_type": "code",
   "execution_count": 43,
   "id": "cf5e6d92",
   "metadata": {},
   "outputs": [
    {
     "name": "stdout",
     "output_type": "stream",
     "text": [
      "2\n"
     ]
    }
   ],
   "source": [
    "print(word.find('t'))"
   ]
  },
  {
   "cell_type": "code",
   "execution_count": 44,
   "id": "9573e978",
   "metadata": {},
   "outputs": [
    {
     "name": "stdout",
     "output_type": "stream",
     "text": [
      "My name is bob and my age is 23\n"
     ]
    }
   ],
   "source": [
    "print(\"My name is {} and my age is {}\".format(\"bob\",23))"
   ]
  },
  {
   "cell_type": "code",
   "execution_count": 46,
   "id": "05b50261",
   "metadata": {},
   "outputs": [
    {
     "name": "stdout",
     "output_type": "stream",
     "text": [
      "My name is bob and my age is 23\n"
     ]
    }
   ],
   "source": [
    "a=\"bob\"\n",
    "b=23\n",
    "\n",
    "print(\"My name is {} and my age is {}\".format(a,b))"
   ]
  },
  {
   "cell_type": "code",
   "execution_count": 47,
   "id": "b6ded194",
   "metadata": {},
   "outputs": [
    {
     "name": "stdout",
     "output_type": "stream",
     "text": [
      "For only 49.00 dollars!\n"
     ]
    }
   ],
   "source": [
    "txt = \"For only {price:.2f} dollars!\"\n",
    "print(txt.format(price = 49))"
   ]
  },
  {
   "cell_type": "code",
   "execution_count": 49,
   "id": "495ae81c",
   "metadata": {},
   "outputs": [
    {
     "name": "stdout",
     "output_type": "stream",
     "text": [
      "7\n"
     ]
    }
   ],
   "source": [
    "# Word = \"Python is programming language\"\n",
    "\n",
    "print(word.index('is'))"
   ]
  },
  {
   "cell_type": "code",
   "execution_count": 51,
   "id": "aab2c5c1",
   "metadata": {},
   "outputs": [
    {
     "name": "stdout",
     "output_type": "stream",
     "text": [
      "False\n"
     ]
    }
   ],
   "source": [
    "# Returns True if all characters in the string are alphanumeric\n",
    "\n",
    "print(word.isalnum())"
   ]
  },
  {
   "cell_type": "code",
   "execution_count": 52,
   "id": "87bb405f",
   "metadata": {},
   "outputs": [
    {
     "name": "stdout",
     "output_type": "stream",
     "text": [
      "False\n"
     ]
    }
   ],
   "source": [
    "# Returns True if all characters in the string are in the alphabet\n",
    "\n",
    "print(word.isalpha())"
   ]
  },
  {
   "cell_type": "code",
   "execution_count": 53,
   "id": "2b0f39e7",
   "metadata": {},
   "outputs": [
    {
     "name": "stdout",
     "output_type": "stream",
     "text": [
      "True\n"
     ]
    }
   ],
   "source": [
    "print(word.isascii())"
   ]
  },
  {
   "cell_type": "code",
   "execution_count": 57,
   "id": "fe7ec013",
   "metadata": {},
   "outputs": [
    {
     "name": "stdout",
     "output_type": "stream",
     "text": [
      "False\n"
     ]
    }
   ],
   "source": [
    "# isdigit()\tReturns True if all characters in the string are digits\n",
    "\n",
    "print(word.isdigit())"
   ]
  },
  {
   "cell_type": "code",
   "execution_count": 62,
   "id": "a2a12a69",
   "metadata": {},
   "outputs": [
    {
     "name": "stdout",
     "output_type": "stream",
     "text": [
      "False\n"
     ]
    }
   ],
   "source": [
    "print(word.isdecimal())"
   ]
  },
  {
   "cell_type": "code",
   "execution_count": 63,
   "id": "cd6be0a9",
   "metadata": {},
   "outputs": [
    {
     "name": "stdout",
     "output_type": "stream",
     "text": [
      "False\n"
     ]
    }
   ],
   "source": [
    "print(word.isidentifier())"
   ]
  },
  {
   "cell_type": "code",
   "execution_count": 69,
   "id": "1dbc4694",
   "metadata": {},
   "outputs": [
    {
     "name": "stdout",
     "output_type": "stream",
     "text": [
      "java is programming language\n"
     ]
    }
   ],
   "source": [
    "print(word.replace('Python','java'))"
   ]
  },
  {
   "cell_type": "code",
   "execution_count": 71,
   "id": "2ca3ff29",
   "metadata": {},
   "outputs": [
    {
     "name": "stdout",
     "output_type": "stream",
     "text": [
      "22\n"
     ]
    }
   ],
   "source": [
    "print(word.rfind('language'))"
   ]
  },
  {
   "cell_type": "code",
   "execution_count": null,
   "id": "463a89f3",
   "metadata": {},
   "outputs": [],
   "source": []
  }
 ],
 "metadata": {
  "kernelspec": {
   "display_name": "Python 3",
   "language": "python",
   "name": "python3"
  },
  "language_info": {
   "codemirror_mode": {
    "name": "ipython",
    "version": 3
   },
   "file_extension": ".py",
   "mimetype": "text/x-python",
   "name": "python",
   "nbconvert_exporter": "python",
   "pygments_lexer": "ipython3",
   "version": "3.8.8"
  }
 },
 "nbformat": 4,
 "nbformat_minor": 5
}
